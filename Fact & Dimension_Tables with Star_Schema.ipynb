{
 "cells": [
  {
   "cell_type": "markdown",
   "metadata": {},
   "source": [
    "# Fact and Dimension Tables with Star Schema"
   ]
  },
  {
   "cell_type": "markdown",
   "metadata": {},
   "source": [
    "### Import library"
   ]
  },
  {
   "cell_type": "code",
   "execution_count": 1,
   "metadata": {},
   "outputs": [],
   "source": [
    "import psycopg2"
   ]
  },
  {
   "cell_type": "code",
   "execution_count": 2,
   "metadata": {},
   "outputs": [],
   "source": [
    "try: \n",
    "    conn = psycopg2.connect(\"dbname=music user=postgres password=admin\")\n",
    "except psycopg2.Error as e: \n",
    "    print(\"Error: Could not make connection to the Postgres database\")\n",
    "    print(e)"
   ]
  },
  {
   "cell_type": "markdown",
   "metadata": {},
   "source": [
    "### Get cursor & set autocommit to true"
   ]
  },
  {
   "cell_type": "code",
   "execution_count": 4,
   "metadata": {},
   "outputs": [],
   "source": [
    "try: \n",
    "    cur =conn.cursor() \n",
    "except psycopg2.Error as e: \n",
    "    print(\"Error: Could not make cursor\")\n",
    "    print(e)\n",
    "    \n",
    "conn.set_session(autocommit = True)\n"
   ]
  },
  {
   "cell_type": "markdown",
   "metadata": {},
   "source": [
    "### Create Fact table & Insert data"
   ]
  },
  {
   "cell_type": "code",
   "execution_count": 9,
   "metadata": {},
   "outputs": [],
   "source": [
    "try:\n",
    "    cur.execute(\"CREATE TABLE IF NOT EXISTS customer_transcations(customer_id integer, store_id integer, spent numeric)\")\n",
    "except psycopg2.Error as e: \n",
    "    print(\"Error: Issue creating table\")\n",
    "    print (e)\n",
    "\n",
    "## Insert data into the table:-\n",
    "\n",
    "try:\n",
    "    cur.execute(\"INSERT INTO customer_transcations(customer_id,store_id,spent)\\\n",
    "                VALUES(%s,%s,%s)\",(1, 1, 20.50))\n",
    "except psycopg2.Error as e: \n",
    "    print(\"Error: Inserting Rows\")\n",
    "    print (e)\n",
    "    \n",
    "try: \n",
    "    cur.execute('INSERT INTO customer_transcations (customer_id, store_id, spent) \\\n",
    "                VALUES (%s, %s, %s)', \\\n",
    "               (2, 1, 35.21))\n",
    "except psycopg2.Error as e: \n",
    "    print(\"Error: Inserting Rows\")\n",
    "    print (e)\n"
   ]
  },
  {
   "cell_type": "markdown",
   "metadata": {},
   "source": [
    "### Create dimension table"
   ]
  },
  {
   "cell_type": "code",
   "execution_count": 17,
   "metadata": {},
   "outputs": [],
   "source": [
    "## Dimension table customer:-\n",
    "\n",
    "try:\n",
    "    cur.execute(\"CREATE TABLE IF NOT EXISTS customer(customer_id integer, name varchar, rewards boolean)\")\n",
    "except psycopg2.Error as e: \n",
    "    print(\"Error: Issue creating table\")\n",
    "    print (e)\n",
    "\n",
    "\n",
    "## Dimension table store:-\n",
    "\n",
    "try:\n",
    "    cur.execute(\"CREATE TABLE IF NOT EXISTS purchased_items (customer_id integer, item_number integer, item_name varchar)\")\n",
    "except psycopg2.Error as e: \n",
    "    print(\"Error: Issue creating table\")\n",
    "    print (e)\n",
    "\n",
    "## Dimension table items_purchased:-\n",
    "\n",
    "try:\n",
    "    cur.execute(\"CREATE TABLE IF NOT EXISTS store(store_id integer, item_name varchar)\")\n",
    "except psycopg2.Error as e: \n",
    "    print(\"Error: Issue creating table\")\n",
    "    print (e)"
   ]
  },
  {
   "cell_type": "markdown",
   "metadata": {},
   "source": [
    "### Insert data into the dimension tables"
   ]
  },
  {
   "cell_type": "code",
   "execution_count": 13,
   "metadata": {},
   "outputs": [],
   "source": [
    "try: \n",
    "    cur.execute('INSERT INTO customer (customer_id, name, rewards) \\\n",
    "                VALUES (%s, %s, %s)', \\\n",
    "               (1, 'Amanda', True))\n",
    "except psycopg2.Error as e: \n",
    "    print(\"Error: Inserting Rows\")\n",
    "    print (e)\n",
    "    \n",
    "try: \n",
    "    cur.execute('INSERT INTO customer (customer_id, name, rewards) \\\n",
    "                VALUES (%s, %s, %s)', \\\n",
    "               (2, 'Toby', False))\n",
    "except psycopg2.Error as e: \n",
    "    print(\"Error: Inserting Rows\")\n",
    "    print (e)\n",
    "    "
   ]
  },
  {
   "cell_type": "code",
   "execution_count": 18,
   "metadata": {},
   "outputs": [],
   "source": [
    "try: \n",
    "    cur.execute('INSERT INTO purchased_items (customer_id, item_number, item_name) \\\n",
    "                VALUES (%s, %s, %s)', \\\n",
    "               (1, 1, 'Rubber Soul'))\n",
    "except psycopg2.Error as e: \n",
    "    print(\"Error: Inserting Rows\")\n",
    "    print (e)\n",
    "try: \n",
    "    cur.execute('INSERT INTO purchased_items (customer_id, item_number, item_name) \\\n",
    "                VALUES (%s, %s, %s)', \\\n",
    "               (2, 3, 'Let it be'))\n",
    "except psycopg2.Error as e: \n",
    "    print(\"Error: Inserting Rows\")\n",
    "    print (e)"
   ]
  },
  {
   "cell_type": "code",
   "execution_count": 16,
   "metadata": {},
   "outputs": [],
   "source": [
    "try: \n",
    "    cur.execute('INSERT INTO store (store_id, state) \\\n",
    "                VALUES (%s, %s)', \\\n",
    "               (1, 'CA'))\n",
    "except psycopg2.Error as e: \n",
    "    print(\"Error: Inserting Rows\")\n",
    "    print (e)\n",
    "\n",
    "try: \n",
    "    cur.execute('INSERT INTO store (store_id, state) \\\n",
    "                VALUES (%s, %s)', \\\n",
    "               (2, 'WA'))\n",
    "except psycopg2.Error as e: \n",
    "    print(\"Error: Inserting Rows\")\n",
    "    print (e)"
   ]
  },
  {
   "cell_type": "markdown",
   "metadata": {},
   "source": [
    "### Query 1"
   ]
  },
  {
   "cell_type": "code",
   "execution_count": 29,
   "metadata": {},
   "outputs": [
    {
     "name": "stdout",
     "output_type": "stream",
     "text": [
      "('Toby', 1, 'CA', 'Let it be', False)\n",
      "('Toby', 1, 'CA', 'Let it be', False)\n",
      "('Toby', 1, 'CA', 'Let it be', False)\n"
     ]
    }
   ],
   "source": [
    "try: \n",
    "    cur.execute(\"SELECT \\\n",
    "                    customer.name AS name, \\\n",
    "                    store.store_id AS store_id, \\\n",
    "                    store.state AS store_state, \\\n",
    "                    purchased_items.item_name AS purchased_item_name, \\\n",
    "                    customer.rewards AS rewards \\\n",
    "                FROM \\\n",
    "                    customer_transcations \\\n",
    "                    JOIN purchased_items ON (purchased_items.customer_id = customer_transcations.customer_id) \\\n",
    "                    JOIN customer ON (customer.customer_id = customer_transcations.customer_id) \\\n",
    "                    JOIN store ON (store.store_id = customer_transcations.store_id) \\\n",
    "                WHERE \\\n",
    "                    customer_transcations.spent > 30 \\\n",
    "                \")\n",
    "    \n",
    "    \n",
    "except psycopg2.Error as e: \n",
    "    print(\"Error: select *\")\n",
    "    print (e)\n",
    "\n",
    "row = cur.fetchone()\n",
    "while row:\n",
    "   print(row)\n",
    "   row = cur.fetchone()"
   ]
  },
  {
   "cell_type": "code",
   "execution_count": 33,
   "metadata": {},
   "outputs": [
    {
     "name": "stdout",
     "output_type": "stream",
     "text": [
      "(1, Decimal('61.5'))\n"
     ]
    }
   ],
   "source": [
    "try:\n",
    "    cur.execute(\"SELECT customer_id, SUM(spent) FROM customer_transcations WHERE customer_id = 1 GROUP BY customer_id\")\n",
    "\n",
    "except psycopg2.Error as e: \n",
    "    print(\"Error: select *\")\n",
    "    print (e)\n",
    "\n",
    "row = cur.fetchone()\n",
    "while row:\n",
    "   print(row)\n",
    "   row = cur.fetchone()"
   ]
  },
  {
   "cell_type": "code",
   "execution_count": null,
   "metadata": {},
   "outputs": [],
   "source": []
  }
 ],
 "metadata": {
  "kernelspec": {
   "display_name": "Python 3",
   "language": "python",
   "name": "python3"
  },
  "language_info": {
   "codemirror_mode": {
    "name": "ipython",
    "version": 3
   },
   "file_extension": ".py",
   "mimetype": "text/x-python",
   "name": "python",
   "nbconvert_exporter": "python",
   "pygments_lexer": "ipython3",
   "version": "3.8.5"
  }
 },
 "nbformat": 4,
 "nbformat_minor": 4
}
