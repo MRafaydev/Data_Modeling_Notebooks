{
 "cells": [
  {
   "cell_type": "markdown",
   "metadata": {},
   "source": [
    "# Demornalized Tables"
   ]
  },
  {
   "cell_type": "markdown",
   "metadata": {},
   "source": [
    "### Import Library"
   ]
  },
  {
   "cell_type": "code",
   "execution_count": 1,
   "metadata": {},
   "outputs": [],
   "source": [
    "import psycopg2"
   ]
  },
  {
   "cell_type": "markdown",
   "metadata": {},
   "source": [
    "### Create a Connection"
   ]
  },
  {
   "cell_type": "code",
   "execution_count": 2,
   "metadata": {},
   "outputs": [],
   "source": [
    "try:\n",
    "    conn = psycopg2.connect(\"dbname=music user=postgres  password=admin\")\n",
    "except psycopg2.Error as e: \n",
    "    print(\"Error: Could not make connection to the Postgres database\")\n",
    "    print(e)"
   ]
  },
  {
   "cell_type": "markdown",
   "metadata": {},
   "source": [
    "### Get a cursor & set autocommit to true"
   ]
  },
  {
   "cell_type": "code",
   "execution_count": 4,
   "metadata": {},
   "outputs": [],
   "source": [
    "try:\n",
    "    cur = conn.cursor()\n",
    "except psycopg2.Error as e: \n",
    "    print(\"Error: Could not get cursor to the Database\")\n",
    "    print(e)\n",
    "\n",
    "conn.set_session(autocommit=True)"
   ]
  },
  {
   "cell_type": "markdown",
   "metadata": {},
   "source": [
    "#### Normalized (3NF) database set of tables we had in the last exercise, but we have added a new table `sales`. \n",
    "\n",
    "`Table Name: transactions2 \n",
    "column 0: transaction Id\n",
    "column 1: Customer Name\n",
    "column 2: Cashier Id\n",
    "column 3: Year `\n",
    "\n",
    "`Table Name: albums_sold\n",
    "column 0: Album Id\n",
    "column 1: Transaction Id\n",
    "column 3: Album Name` \n",
    "\n",
    "`Table Name: employees\n",
    "column 0: Employee Id\n",
    "column 1: Employee Name `\n",
    "\n",
    "`Table Name: sales\n",
    "column 0: Transaction Id\n",
    "column 1: Amount Spent\n",
    "`"
   ]
  },
  {
   "cell_type": "markdown",
   "metadata": {},
   "source": [
    "### Create Transcations2 table & insert data"
   ]
  },
  {
   "cell_type": "code",
   "execution_count": 7,
   "metadata": {},
   "outputs": [
    {
     "name": "stdout",
     "output_type": "stream",
     "text": [
      "Error: Inserting Rows\n",
      "duplicate key value violates unique constraint \"transactions2_pkey\"\n",
      "DETAIL:  Key (transaction_id)=(2) already exists.\n",
      "\n"
     ]
    }
   ],
   "source": [
    "try: \n",
    "    cur.execute(\"CREATE TABLE IF NOT EXISTS transactions2 (transaction_id integer, customer_name varchar, \\\n",
    "                cashier_id integer, year integer, PRIMARY KEY (transaction_id))\")\n",
    "except psycopg2.Error as e: \n",
    "    print(\"Error: Issue creating table\")\n",
    "    print (e)\n",
    "\n",
    "## Insert Data\n",
    "\n",
    "try: \n",
    "    cur.execute(\"INSERT INTO transactions2 (transaction_id, customer_name, cashier_id, year) \\\n",
    "                 VALUES (%s, %s, %s, %s)\", \\\n",
    "                 (2, \"Toby\", 1, 2000))\n",
    "except psycopg2.Error as e: \n",
    "    print(\"Error: Inserting Rows\")\n",
    "    print (e)"
   ]
  },
  {
   "cell_type": "markdown",
   "metadata": {},
   "source": [
    "### Create Employees table & insert data"
   ]
  },
  {
   "cell_type": "code",
   "execution_count": 9,
   "metadata": {},
   "outputs": [],
   "source": [
    "try: \n",
    "    cur.execute(\"CREATE TABLE IF NOT EXISTS employees (employee_id integer, employee_name varchar, PRIMARY KEY(employee_id))\")\n",
    "except psycopg2.Error as e: \n",
    "    print(\"Error: Issue creating table\")\n",
    "    print (e)\n",
    "\n",
    "## Insert Data\n",
    "\n",
    "try: \n",
    "    cur.execute(\"INSERT INTO employees (employee_id, employee_name) \\\n",
    "                 VALUES (%s, %s)\", \\\n",
    "                 (1, \"Sam\"))\n",
    "except psycopg2.Error as e: \n",
    "    print(\"Error: Inserting Rows\")\n",
    "    print (e)\n",
    "\n",
    "try: \n",
    "    cur.execute(\"INSERT INTO employees (employee_id, employee_name) \\\n",
    "                 VALUES (%s, %s)\", \\\n",
    "                 (2, \"Bob\"))\n",
    "except psycopg2.Error as e: \n",
    "    print(\"Error: Inserting Rows\")\n",
    "    print (e)    \n",
    "    "
   ]
  },
  {
   "cell_type": "markdown",
   "metadata": {},
   "source": [
    "### Create albums_sold table & insert data"
   ]
  },
  {
   "cell_type": "code",
   "execution_count": 10,
   "metadata": {},
   "outputs": [],
   "source": [
    "try: \n",
    "    cur.execute(\"CREATE TABLE IF NOT EXISTS albums_sold (album_id integer, transaction_id integer, album_name varchar, PRIMARY KEY(album_id))\")\n",
    "except psycopg2.Error as e: \n",
    "    print(\"Error: Issue creating table\")\n",
    "    print (e)\n",
    "    \n",
    "## Insert Data\n",
    "\n",
    "try: \n",
    "    cur.execute(\"INSERT INTO albums_sold (album_id, transaction_id, album_name) \\\n",
    "                 VALUES (%s, %s, %s)\", \\\n",
    "                 (2, 1, \"Let It Be\"))\n",
    "except psycopg2.Error as e: \n",
    "    print(\"Error: Inserting Rows\")\n",
    "    print (e)\n",
    "    \n",
    "try: \n",
    "    cur.execute(\"INSERT INTO albums_sold (album_id, transaction_id, album_name) \\\n",
    "                 VALUES (%s, %s, %s)\", \\\n",
    "                 (3, 2, \"My Generation\"))\n",
    "except psycopg2.Error as e: \n",
    "    print(\"Error: Inserting Rows\")\n",
    "    print (e)\n",
    "    \n",
    "try: \n",
    "    cur.execute(\"INSERT INTO albums_sold (album_id, transaction_id, album_name) \\\n",
    "                 VALUES (%s, %s, %s)\", \\\n",
    "                 (4, 3, \"Meet the Beatles\"))\n",
    "except psycopg2.Error as e: \n",
    "    print(\"Error: Inserting Rows\")\n",
    "    print (e)\n",
    "\n",
    "try: \n",
    "    cur.execute(\"INSERT INTO albums_sold (album_id, transaction_id, album_name) \\\n",
    "                 VALUES (%s, %s, %s)\", \\\n",
    "                 (5, 3, \"Help!\"))\n",
    "except psycopg2.Error as e: \n",
    "    print(\"Error: Inserting Rows\")\n",
    "    print (e)\n"
   ]
  },
  {
   "cell_type": "markdown",
   "metadata": {},
   "source": [
    "### Create Sales table & insert data"
   ]
  },
  {
   "cell_type": "code",
   "execution_count": 11,
   "metadata": {},
   "outputs": [],
   "source": [
    "try: \n",
    "    cur.execute(\"CREATE TABLE IF NOT EXISTS sales (transaction_id integer, amount_spent integer, PRIMARY KEY (transaction_id))\")\n",
    "except psycopg2.Error as e: \n",
    "    print(\"Error: Issue creating table\")\n",
    "    print (e)\n",
    "\n",
    "## Insert data \n",
    "\n",
    "try: \n",
    "    cur.execute(\"INSERT INTO sales (transaction_id, amount_spent) \\\n",
    "                 VALUES (%s, %s)\", \\\n",
    "                 (1, 40))\n",
    "except psycopg2.Error as e: \n",
    "    print(\"Error: Inserting Rows\")\n",
    "    print (e)    \n",
    "    \n",
    "try: \n",
    "    cur.execute(\"INSERT INTO sales (transaction_id, amount_spent) \\\n",
    "                 VALUES (%s, %s)\", \\\n",
    "                 (2, 19))\n",
    "except psycopg2.Error as e: \n",
    "    print(\"Error: Inserting Rows\")\n",
    "    print (e) \n",
    "\n",
    "try: \n",
    "    cur.execute(\"INSERT INTO sales (transaction_id, amount_spent) \\\n",
    "                 VALUES (%s, %s)\", \\\n",
    "                 (3, 45))\n",
    "except psycopg2.Error as e: \n",
    "    print(\"Error: Inserting Rows\")\n",
    "    print (e) "
   ]
  },
  {
   "cell_type": "markdown",
   "metadata": {},
   "source": [
    "### Validating Queries"
   ]
  },
  {
   "cell_type": "code",
   "execution_count": 12,
   "metadata": {},
   "outputs": [
    {
     "name": "stdout",
     "output_type": "stream",
     "text": [
      "Table: transactions2\n",
      "\n",
      "(2, 'Toby', 1, 2000)\n",
      "(3, 'Max', 2, 2018)\n",
      "\n",
      "Table: albums_sold\n",
      "\n",
      "(2, 1, 'Let It Be')\n",
      "(3, 2, 'My Generation')\n",
      "(4, 3, 'Meet the Beatles')\n",
      "(5, 3, 'Help!')\n",
      "\n",
      "Table: employees\n",
      "\n",
      "(1, 'Sam')\n",
      "(2, 'Bob')\n",
      "\n",
      "Table: sales\n",
      "\n",
      "(1, 40)\n",
      "(2, 19)\n",
      "(3, 45)\n"
     ]
    }
   ],
   "source": [
    "print(\"Table: transactions2\\n\")\n",
    "try: \n",
    "    cur.execute(\"SELECT * FROM transactions2;\")\n",
    "except psycopg2.Error as e: \n",
    "    print(\"Error: select *\")\n",
    "    print (e)\n",
    "\n",
    "row = cur.fetchone()\n",
    "while row:\n",
    "   print(row)\n",
    "   row = cur.fetchone()\n",
    "\n",
    "print(\"\\nTable: albums_sold\\n\")\n",
    "try: \n",
    "    cur.execute(\"SELECT * FROM albums_sold;\")\n",
    "except psycopg2.Error as e: \n",
    "    print(\"Error: select *\")\n",
    "    print (e)\n",
    "\n",
    "row = cur.fetchone()\n",
    "while row:\n",
    "   print(row)\n",
    "   row = cur.fetchone()\n",
    "\n",
    "print(\"\\nTable: employees\\n\")\n",
    "try: \n",
    "    cur.execute(\"SELECT * FROM employees;\")\n",
    "except psycopg2.Error as e: \n",
    "    print(\"Error: select *\")\n",
    "    print (e)\n",
    "\n",
    "row = cur.fetchone()\n",
    "while row:\n",
    "   print(row)\n",
    "   row = cur.fetchone()\n",
    "    \n",
    "print(\"\\nTable: sales\\n\")\n",
    "try: \n",
    "    cur.execute(\"SELECT * FROM sales;\")\n",
    "except psycopg2.Error as e: \n",
    "    print(\"Error: select *\")\n",
    "    print (e)\n",
    "\n",
    "row = cur.fetchone()\n",
    "while row:\n",
    "   print(row)\n",
    "   row = cur.fetchone()"
   ]
  },
  {
   "cell_type": "markdown",
   "metadata": {},
   "source": [
    "### `JOIN`  the 4 tables you have created"
   ]
  },
  {
   "cell_type": "code",
   "execution_count": 13,
   "metadata": {},
   "outputs": [
    {
     "name": "stdout",
     "output_type": "stream",
     "text": [
      "(2, 'Toby', 'Sam', 2000, 'My Generation', 19)\n",
      "(3, 'Max', 'Bob', 2018, 'Meet the Beatles', 45)\n",
      "(3, 'Max', 'Bob', 2018, 'Help!', 45)\n"
     ]
    }
   ],
   "source": [
    "try:\n",
    "    cur.execute(\"SELECT \\\n",
    "        transactions2.transaction_id AS transaction_id, \\\n",
    "        transactions2.customer_name  AS customer_name, \\\n",
    "        employees.employee_name      AS cashier_name, \\\n",
    "        transactions2.year           AS year, \\\n",
    "        albums_sold.album_name       AS albums_sold, \\\n",
    "        sales.amount_spent           AS amount_spent \\\n",
    "    FROM \\\n",
    "     transactions2 \\\n",
    "        JOIN employees ON (employees.employee_id = transactions2.cashier_id) \\\n",
    "        JOIN albums_sold ON (albums_sold.transaction_id = transactions2.transaction_id) \\\n",
    "        JOIN sales ON (sales.transaction_id = transactions2.transaction_id)\")\n",
    "\n",
    "    \n",
    "        \n",
    "except psycopg2.Error as e: \n",
    "    print(\"Error: select *\")\n",
    "    print (e)\n",
    "\n",
    "row = cur.fetchone()\n",
    "while row:\n",
    "   print(row)\n",
    "   row = cur.fetchone()\n",
    "    "
   ]
  },
  {
   "cell_type": "markdown",
   "metadata": {},
   "source": [
    "### Demorlization Process"
   ]
  },
  {
   "cell_type": "code",
   "execution_count": 14,
   "metadata": {},
   "outputs": [],
   "source": [
    "try: \n",
    "    cur.execute(\"CREATE TABLE IF NOT EXISTS transactions (transaction_id integer, customer_name varchar,\\\n",
    "    cashier_name varchar, year integer, amount_spent integer, PRIMARY KEY (transaction_id))\")\n",
    "except psycopg2.Error as e: \n",
    "    print(\"Error: Issue creating table\")\n",
    "    print (e)\n",
    "\n",
    "## Insert data\n",
    "\n",
    "try: \n",
    "    cur.execute(\"INSERT INTO transactions (transaction_id, customer_name, cashier_name, year, amount_spent) \\\n",
    "                 VALUES (%s, %s, %s, %s, %s)\", \\\n",
    "                 (1, 'Amanda', 'Sam', 2000, 40))\n",
    "except psycopg2.Error as e: \n",
    "    print(\"Error: Inserting Rows\")\n",
    "    print (e)\n",
    "    \n",
    "try: \n",
    "    cur.execute(\"INSERT INTO transactions (transaction_id, customer_name, cashier_name, year, amount_spent) \\\n",
    "                 VALUES (%s, %s, %s, %s, %s)\", \\\n",
    "                 (2, 'Toby', 'Sam', 2000, 19))\n",
    "except psycopg2.Error as e: \n",
    "    print(\"Error: Inserting Rows\")\n",
    "    print (e)\n",
    "    \n",
    "try: \n",
    "    cur.execute(\"INSERT INTO transactions (transaction_id, customer_name, cashier_name, year, amount_spent) \\\n",
    "                 VALUES (%s, %s, %s, %s, %s)\", \\\n",
    "                 (3, 'Max', 'Bob', 2018, 45))\n",
    "except psycopg2.Error as e: \n",
    "    print(\"Error: Inserting Rows\")\n",
    "    print (e)"
   ]
  },
  {
   "cell_type": "markdown",
   "metadata": {},
   "source": [
    "### Validate Queries"
   ]
  },
  {
   "cell_type": "code",
   "execution_count": 15,
   "metadata": {},
   "outputs": [
    {
     "name": "stdout",
     "output_type": "stream",
     "text": [
      "(1, 'Amanda', 40)\n",
      "(2, 'Toby', 19)\n",
      "(3, 'Max', 45)\n"
     ]
    }
   ],
   "source": [
    "try: \n",
    "    cur.execute(\"SELECT transaction_id, customer_name, amount_spent FROM transactions\")\n",
    "        \n",
    "except psycopg2.Error as e: \n",
    "    print(\"Error: select *\")\n",
    "    print (e)\n",
    "\n",
    "row = cur.fetchone()\n",
    "while row:\n",
    "   print(row)\n",
    "   row = cur.fetchone()"
   ]
  },
  {
   "cell_type": "code",
   "execution_count": 16,
   "metadata": {},
   "outputs": [],
   "source": [
    "cur.close()\n",
    "conn.close()"
   ]
  },
  {
   "cell_type": "code",
   "execution_count": null,
   "metadata": {},
   "outputs": [],
   "source": []
  }
 ],
 "metadata": {
  "kernelspec": {
   "display_name": "Python 3",
   "language": "python",
   "name": "python3"
  },
  "language_info": {
   "codemirror_mode": {
    "name": "ipython",
    "version": 3
   },
   "file_extension": ".py",
   "mimetype": "text/x-python",
   "name": "python",
   "nbconvert_exporter": "python",
   "pygments_lexer": "ipython3",
   "version": "3.8.5"
  }
 },
 "nbformat": 4,
 "nbformat_minor": 4
}
