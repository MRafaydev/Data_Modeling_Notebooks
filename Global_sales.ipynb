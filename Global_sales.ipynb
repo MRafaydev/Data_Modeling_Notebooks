{
 "cells": [
  {
   "cell_type": "markdown",
   "metadata": {},
   "source": [
    "# Import Library"
   ]
  },
  {
   "cell_type": "code",
   "execution_count": null,
   "metadata": {},
   "outputs": [],
   "source": [
    "import psycopg2"
   ]
  },
  {
   "cell_type": "markdown",
   "metadata": {},
   "source": [
    "### Connect to the default database."
   ]
  },
  {
   "cell_type": "code",
   "execution_count": null,
   "metadata": {},
   "outputs": [],
   "source": [
    "try: \n",
    "    conn = psycopg2.connect(\"host=127.0.0.1 dbname=postgres user=postgres password=admin\")\n",
    "except psycopg2.Error as e: \n",
    "    print(\"Error: Could not make connection to the Postgres database\")\n",
    "    print(e)"
   ]
  },
  {
   "cell_type": "markdown",
   "metadata": {},
   "source": [
    "### Execute queries with cursor."
   ]
  },
  {
   "cell_type": "code",
   "execution_count": null,
   "metadata": {},
   "outputs": [],
   "source": [
    "try:\n",
    "    cur = conn.cursor()\n",
    "except psycopg2.Error as e: \n",
    "    print(\"Error: Could not get curser to the Database\")\n",
    "    print(e)"
   ]
  },
  {
   "cell_type": "markdown",
   "metadata": {},
   "source": [
    "### Set AutoCommit to True. "
   ]
  },
  {
   "cell_type": "code",
   "execution_count": null,
   "metadata": {},
   "outputs": [],
   "source": [
    "conn.set_session(autocommit=True)"
   ]
  },
  {
   "cell_type": "markdown",
   "metadata": {},
   "source": [
    "### Create new database"
   ]
  },
  {
   "cell_type": "code",
   "execution_count": null,
   "metadata": {},
   "outputs": [],
   "source": [
    "try:\n",
    "    cur.execute('create database globalsales')\n",
    "except psycopg2.Error as e:\n",
    "    print(e)"
   ]
  },
  {
   "cell_type": "markdown",
   "metadata": {},
   "source": [
    "### Close default connection."
   ]
  },
  {
   "cell_type": "code",
   "execution_count": null,
   "metadata": {},
   "outputs": [],
   "source": [
    "try: \n",
    "    conn.close()\n",
    "except psycopg2.Error as e:\n",
    "    print(e)"
   ]
  },
  {
   "cell_type": "markdown",
   "metadata": {},
   "source": [
    "### Connect too new database."
   ]
  },
  {
   "cell_type": "code",
   "execution_count": null,
   "metadata": {},
   "outputs": [],
   "source": [
    "try: \n",
    "    conn = psycopg2.connect(\"host=127.0.0.1 dbname=globalsales user=postgres password=admin\")\n",
    "except psycopg2.Error as e: \n",
    "    print(\"Error: Could not make connection to the Postgres database\")\n",
    "    print(e)\n",
    "    \n",
    "try: \n",
    "    cur = conn.cursor()\n",
    "except psycopg2.Error as e: \n",
    "    print(\"Error: Could not get curser to the Database\")\n",
    "    print(e)\n",
    "\n",
    "conn.set_session(autocommit=True)"
   ]
  },
  {
   "cell_type": "markdown",
   "metadata": {},
   "source": [
    "### Create table Orders with the following fields."
   ]
  },
  {
   "cell_type": "markdown",
   "metadata": {},
   "source": [
    "- Row ID\n",
    "- Order ID\n",
    "- OrderDate\n",
    "- DateShip \n",
    "- Mode\n",
    "- Customer ID\n",
    "- Customer Name\n",
    "- Segment\n",
    "- Postal Code\n",
    "- City\n",
    "- State\n",
    "- Country\n",
    "- Region\n",
    "- Market\n",
    "- Product ID\n",
    "- Category\n",
    "- Sub-Category\n",
    "- Product Name\n",
    "- Sales\n",
    "- Quantity\n",
    "- Discount\n",
    "- Profit\n",
    "- Shipping Cost\n",
    "- Order Priority"
   ]
  },
  {
   "cell_type": "code",
   "execution_count": null,
   "metadata": {},
   "outputs": [],
   "source": [
    "try:\n",
    "    cur.execute('CREATE TABLE IF NOT EXISTS Orders (Row_ID int NOT NULL PRIMARY KEY, Order_ID varchar, Order_Date DATE ,\\\n",
    "    Date_Ship DATE, Ship_Mode varchar, Customer_ID varchar, Customer_Name varchar, Segment varchar, Postal_Code int, \\\n",
    "    City varchar, State varchar, Country varchar, Region varchar, Market varchar, Product_ID varchar, \\\n",
    "    Category varchar, Sub_Category varchar, Product_Name varchar, \\\n",
    "    Sales int , Quantity int, Discount int, Profit int, Shipping_Cost int, \\\n",
    "    Order_Priority varchar );')\n",
    "except psycopg2.Error as e: \n",
    "    print(\"Error: Issue creating table\")\n",
    "    print (e)"
   ]
  },
  {
   "cell_type": "markdown",
   "metadata": {},
   "source": [
    "### Create People table."
   ]
  },
  {
   "cell_type": "code",
   "execution_count": null,
   "metadata": {},
   "outputs": [],
   "source": [
    "try:\n",
    "    cur.execute('CREATE TABLE IF NOT EXISTS people (Person varchar , Region varchar REFERENCES Returns (Region));')\n",
    "except psycopg2.Error as e: \n",
    "    print(\"Error: Issue creating table\")\n",
    "    print (e)"
   ]
  },
  {
   "cell_type": "markdown",
   "metadata": {},
   "source": [
    "### Create Returns table."
   ]
  },
  {
   "cell_type": "code",
   "execution_count": null,
   "metadata": {},
   "outputs": [],
   "source": [
    "try:\n",
    "    cur.execute('CREATE TABLE IF NOT EXISTS Returns (Returned varchar , Order_ID varchar , \\\n",
    "                Region varchar);')\n",
    "except psycopg2.Error as e: \n",
    "    print(\"Error: Issue creating table\")\n",
    "    print (e)"
   ]
  },
  {
   "cell_type": "markdown",
   "metadata": {},
   "source": [
    "### Insert into Orders table."
   ]
  },
  {
   "cell_type": "code",
   "execution_count": null,
   "metadata": {},
   "outputs": [],
   "source": [
    "Orders_table_insert = (\"\"\"\n",
    "    INSERT INTO Orders (\n",
    "        Row_ID,\n",
    "        Order_ID,\n",
    "        Order_Date,\n",
    "        Date_Ship,\n",
    "        Ship_Mode,\n",
    "        Customer_ID,\n",
    "        Customer_Name,\n",
    "        Postal_Code,\n",
    "        City,\n",
    "        State,\n",
    "        Country,\n",
    "        Region,\n",
    "        Market,\n",
    "        Product_ID,\n",
    "        Sales,\n",
    "        Quantity,\n",
    "        Discount,\n",
    "        Profit,\n",
    "        Shipping_Cost,\n",
    "        Order_Priority,\n",
    "        Order_Priority\n",
    "    )\n",
    "    VALUES (%s, %s, %s, %s, %s, %s, %s, %s, %s,%s, %s, %s, %s, %s, %s, %s, %s, %s,%s, %s,%s)\n",
    "\"\"\")\n"
   ]
  },
  {
   "cell_type": "markdown",
   "metadata": {},
   "source": [
    "### Insert into People table. "
   ]
  },
  {
   "cell_type": "code",
   "execution_count": null,
   "metadata": {},
   "outputs": [],
   "source": [
    "People_table_insert = (\"\"\"\n",
    "    INSERT INTO people (\n",
    "        Person,\n",
    "        Region \n",
    "    )\n",
    "    VALUES (%s, %s)\n",
    "\"\"\")"
   ]
  },
  {
   "cell_type": "markdown",
   "metadata": {},
   "source": [
    "### Insert into Returns table."
   ]
  },
  {
   "cell_type": "code",
   "execution_count": null,
   "metadata": {},
   "outputs": [],
   "source": [
    "Returns_table_insert = (\"\"\"\n",
    "    INSERT INTO Returns (\n",
    "        Returned,\n",
    "        Order_ID,\n",
    "        Region\n",
    "    )\n",
    "    VALUES (%s, %s, %s)\n",
    "\"\"\")"
   ]
  }
 ],
 "metadata": {
  "kernelspec": {
   "display_name": "Python 3",
   "language": "python",
   "name": "python3"
  },
  "language_info": {
   "codemirror_mode": {
    "name": "ipython",
    "version": 3
   },
   "file_extension": ".py",
   "mimetype": "text/x-python",
   "name": "python",
   "nbconvert_exporter": "python",
   "pygments_lexer": "ipython3",
   "version": "3.8.5"
  }
 },
 "nbformat": 4,
 "nbformat_minor": 4
}
