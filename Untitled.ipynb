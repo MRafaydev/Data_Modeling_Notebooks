{
 "cells": [
  {
   "cell_type": "code",
   "execution_count": 1,
   "source": [
    "import psycopg2"
   ],
   "outputs": [],
   "metadata": {}
  },
  {
   "cell_type": "code",
   "execution_count": 2,
   "source": [
    "try:\r\n",
    "    conn = psycopg2.connect(\"dbname=music user=postgres password=admin\")\r\n",
    "except psycopg2.Error as e: \r\n",
    "    print(\"Error: Could not make connection to the Postgres database\")\r\n",
    "    print(e)"
   ],
   "outputs": [],
   "metadata": {}
  },
  {
   "cell_type": "code",
   "execution_count": 3,
   "source": [
    "cur = conn.cursor()"
   ],
   "outputs": [],
   "metadata": {}
  },
  {
   "cell_type": "code",
   "execution_count": 5,
   "source": [
    "conn.set_session(autocommit = True)"
   ],
   "outputs": [],
   "metadata": {}
  },
  {
   "cell_type": "code",
   "execution_count": 7,
   "source": [
    "cur.execute(\"CREATE TABLE IF NOT EXISTS songs (song_title varchar,artist_name varchar, year integer, album_name varchar, single boolean);\")\r\n"
   ],
   "outputs": [],
   "metadata": {}
  },
  {
   "cell_type": "code",
   "execution_count": 9,
   "source": [
    "cur.execute(\"INSERT INTO songs(song_title,artist_name,year,album_name,single) VALUES (%s, %s, %s, %s, %s)\",\r\n",
    "            (\"Think For Yourself\", \"The Beatles\", 1965, \"Rubber Soul\", False))\r\n",
    "\r\n",
    "cur.execute(\"INSERT INTO songs(song_title,artist_name,year,album_name,single) VALUES (%s, %s, %s, %s, %s)\",\r\n",
    "            (\"Think For Yourself\", \"The Beatles\", 1965, \"Rubber Soul\", False))\r\n",
    "            "
   ],
   "outputs": [],
   "metadata": {}
  },
  {
   "cell_type": "code",
   "execution_count": null,
   "source": [],
   "outputs": [],
   "metadata": {}
  }
 ],
 "metadata": {
  "kernelspec": {
   "display_name": "Python 3",
   "language": "python",
   "name": "python3"
  },
  "language_info": {
   "codemirror_mode": {
    "name": "ipython",
    "version": 3
   },
   "file_extension": ".py",
   "mimetype": "text/x-python",
   "name": "python",
   "nbconvert_exporter": "python",
   "pygments_lexer": "ipython3",
   "version": "3.8.5"
  }
 },
 "nbformat": 4,
 "nbformat_minor": 4
}